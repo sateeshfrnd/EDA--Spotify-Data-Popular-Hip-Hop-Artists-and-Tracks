{
 "cells": [
  {
   "cell_type": "markdown",
   "id": "448ecdfb-33c3-45d2-a7a5-9d66a44c8f02",
   "metadata": {},
   "source": [
    "# Exploratory Data Analysis (EDA) on Spotify Data: Popular Hip-hop Artists and Tracks"
   ]
  },
  {
   "cell_type": "markdown",
   "id": "d551d600-74e5-4b0a-a4b2-ba140c389e73",
   "metadata": {},
   "source": [
    "## Import required models"
   ]
  },
  {
   "cell_type": "code",
   "execution_count": 1,
   "id": "f9aa1c04-8684-40ad-b87e-bdf5c65d70b0",
   "metadata": {
    "tags": []
   },
   "outputs": [],
   "source": [
    "import pandas as pd\n",
    "import numpy as np\n",
    "import matplotlib.pyplot as plt\n",
    "import seaborn as sns\n",
    "\n",
    "# Set the style of the plot\n",
    "sns.set_style('whitegrid')"
   ]
  },
  {
   "cell_type": "markdown",
   "id": "7216ef53-96b7-4098-9415-ba66d1c2593e",
   "metadata": {
    "tags": []
   },
   "source": [
    "## Load and Explore the Dataset"
   ]
  },
  {
   "cell_type": "code",
   "execution_count": 2,
   "id": "3c9e3408-1e8f-45f3-aee0-477c1a239e41",
   "metadata": {
    "tags": []
   },
   "outputs": [],
   "source": [
    "data = pd.read_csv('dataset/spotify.csv')"
   ]
  },
  {
   "cell_type": "code",
   "execution_count": 4,
   "id": "e4bcb0f3-d7d2-4636-b16a-dcf54f392530",
   "metadata": {
    "tags": []
   },
   "outputs": [
    {
     "data": {
      "text/html": [
       "<div>\n",
       "<style scoped>\n",
       "    .dataframe tbody tr th:only-of-type {\n",
       "        vertical-align: middle;\n",
       "    }\n",
       "\n",
       "    .dataframe tbody tr th {\n",
       "        vertical-align: top;\n",
       "    }\n",
       "\n",
       "    .dataframe thead th {\n",
       "        text-align: right;\n",
       "    }\n",
       "</style>\n",
       "<table border=\"1\" class=\"dataframe\">\n",
       "  <thead>\n",
       "    <tr style=\"text-align: right;\">\n",
       "      <th></th>\n",
       "      <th>Artist</th>\n",
       "      <th>Track Name</th>\n",
       "      <th>Popularity</th>\n",
       "      <th>Duration (ms)</th>\n",
       "      <th>Track ID</th>\n",
       "    </tr>\n",
       "  </thead>\n",
       "  <tbody>\n",
       "    <tr>\n",
       "      <th>0</th>\n",
       "      <td>Drake</td>\n",
       "      <td>Rich Baby Daddy (feat. Sexyy Red &amp; SZA)</td>\n",
       "      <td>92</td>\n",
       "      <td>319191</td>\n",
       "      <td>1yeB8MUNeLo9Ek1UEpsyz6</td>\n",
       "    </tr>\n",
       "    <tr>\n",
       "      <th>1</th>\n",
       "      <td>Drake</td>\n",
       "      <td>One Dance</td>\n",
       "      <td>91</td>\n",
       "      <td>173986</td>\n",
       "      <td>1zi7xx7UVEFkmKfv06H8x0</td>\n",
       "    </tr>\n",
       "    <tr>\n",
       "      <th>2</th>\n",
       "      <td>Drake</td>\n",
       "      <td>IDGAF (feat. Yeat)</td>\n",
       "      <td>90</td>\n",
       "      <td>260111</td>\n",
       "      <td>2YSzYUF3jWqb9YP9VXmpjE</td>\n",
       "    </tr>\n",
       "    <tr>\n",
       "      <th>3</th>\n",
       "      <td>Drake</td>\n",
       "      <td>First Person Shooter (feat. J. Cole)</td>\n",
       "      <td>88</td>\n",
       "      <td>247444</td>\n",
       "      <td>7aqfrAY2p9BUSiupwk3svU</td>\n",
       "    </tr>\n",
       "    <tr>\n",
       "      <th>4</th>\n",
       "      <td>Drake</td>\n",
       "      <td>Jimmy Cooks (feat. 21 Savage)</td>\n",
       "      <td>88</td>\n",
       "      <td>218364</td>\n",
       "      <td>3F5CgOj3wFlRv51JsHbxhe</td>\n",
       "    </tr>\n",
       "    <tr>\n",
       "      <th>...</th>\n",
       "      <td>...</td>\n",
       "      <td>...</td>\n",
       "      <td>...</td>\n",
       "      <td>...</td>\n",
       "      <td>...</td>\n",
       "    </tr>\n",
       "    <tr>\n",
       "      <th>435</th>\n",
       "      <td>French Montana</td>\n",
       "      <td>Splash Brothers</td>\n",
       "      <td>44</td>\n",
       "      <td>221863</td>\n",
       "      <td>3fBsEOnzwtlkpS0LxXAZhN</td>\n",
       "    </tr>\n",
       "    <tr>\n",
       "      <th>436</th>\n",
       "      <td>Fat Joe</td>\n",
       "      <td>All The Way Up (feat. Infared)</td>\n",
       "      <td>64</td>\n",
       "      <td>191900</td>\n",
       "      <td>7Ezwtgfw7khBrpvaNPtMoT</td>\n",
       "    </tr>\n",
       "    <tr>\n",
       "      <th>437</th>\n",
       "      <td>A$AP Ferg</td>\n",
       "      <td>Work REMIX (feat. A$AP Rocky, French Montana, ...</td>\n",
       "      <td>69</td>\n",
       "      <td>283693</td>\n",
       "      <td>7xVLFuuYdAvcTfcP3IG3dS</td>\n",
       "    </tr>\n",
       "    <tr>\n",
       "      <th>438</th>\n",
       "      <td>Diddy</td>\n",
       "      <td>Another One Of Me (feat. 21 Savage)</td>\n",
       "      <td>65</td>\n",
       "      <td>220408</td>\n",
       "      <td>4hGmQboiou09EwhcTWa0H6</td>\n",
       "    </tr>\n",
       "    <tr>\n",
       "      <th>439</th>\n",
       "      <td>Rick Ross</td>\n",
       "      <td>Stay Schemin</td>\n",
       "      <td>68</td>\n",
       "      <td>267720</td>\n",
       "      <td>0nq6sfr8z1R5KJ4XUk396e</td>\n",
       "    </tr>\n",
       "  </tbody>\n",
       "</table>\n",
       "<p>440 rows × 5 columns</p>\n",
       "</div>"
      ],
      "text/plain": [
       "             Artist                                         Track Name  \\\n",
       "0             Drake            Rich Baby Daddy (feat. Sexyy Red & SZA)   \n",
       "1             Drake                                          One Dance   \n",
       "2             Drake                                 IDGAF (feat. Yeat)   \n",
       "3             Drake               First Person Shooter (feat. J. Cole)   \n",
       "4             Drake                      Jimmy Cooks (feat. 21 Savage)   \n",
       "..              ...                                                ...   \n",
       "435  French Montana                                    Splash Brothers   \n",
       "436         Fat Joe                     All The Way Up (feat. Infared)   \n",
       "437       A$AP Ferg  Work REMIX (feat. A$AP Rocky, French Montana, ...   \n",
       "438           Diddy                Another One Of Me (feat. 21 Savage)   \n",
       "439       Rick Ross                                       Stay Schemin   \n",
       "\n",
       "     Popularity  Duration (ms)                Track ID  \n",
       "0            92         319191  1yeB8MUNeLo9Ek1UEpsyz6  \n",
       "1            91         173986  1zi7xx7UVEFkmKfv06H8x0  \n",
       "2            90         260111  2YSzYUF3jWqb9YP9VXmpjE  \n",
       "3            88         247444  7aqfrAY2p9BUSiupwk3svU  \n",
       "4            88         218364  3F5CgOj3wFlRv51JsHbxhe  \n",
       "..          ...            ...                     ...  \n",
       "435          44         221863  3fBsEOnzwtlkpS0LxXAZhN  \n",
       "436          64         191900  7Ezwtgfw7khBrpvaNPtMoT  \n",
       "437          69         283693  7xVLFuuYdAvcTfcP3IG3dS  \n",
       "438          65         220408  4hGmQboiou09EwhcTWa0H6  \n",
       "439          68         267720  0nq6sfr8z1R5KJ4XUk396e  \n",
       "\n",
       "[440 rows x 5 columns]"
      ]
     },
     "execution_count": 4,
     "metadata": {},
     "output_type": "execute_result"
    }
   ],
   "source": [
    "data"
   ]
  },
  {
   "cell_type": "code",
   "execution_count": 6,
   "id": "a34519dd-4417-45ee-a36e-6dd5ee11bb95",
   "metadata": {
    "tags": []
   },
   "outputs": [
    {
     "data": {
      "text/plain": [
       "(440, 5)"
      ]
     },
     "execution_count": 6,
     "metadata": {},
     "output_type": "execute_result"
    }
   ],
   "source": [
    "data.shape"
   ]
  },
  {
   "cell_type": "markdown",
   "id": "ae198427-a0f3-4d35-8de7-028dff37e55e",
   "metadata": {},
   "source": [
    "In dataset, there are 440 records/observations and 5 features/columns."
   ]
  },
  {
   "cell_type": "code",
   "execution_count": 7,
   "id": "b97e14a0-0d57-43c2-829c-e7bc33a6e50f",
   "metadata": {
    "tags": []
   },
   "outputs": [
    {
     "data": {
      "text/plain": [
       "Index(['Artist', 'Track Name', 'Popularity', 'Duration (ms)', 'Track ID'], dtype='object')"
      ]
     },
     "execution_count": 7,
     "metadata": {},
     "output_type": "execute_result"
    }
   ],
   "source": [
    "data.columns"
   ]
  },
  {
   "cell_type": "code",
   "execution_count": 8,
   "id": "bbc3d04e-052d-41cd-9514-9bf84350cd9c",
   "metadata": {
    "tags": []
   },
   "outputs": [
    {
     "name": "stdout",
     "output_type": "stream",
     "text": [
      "<class 'pandas.core.frame.DataFrame'>\n",
      "RangeIndex: 440 entries, 0 to 439\n",
      "Data columns (total 5 columns):\n",
      " #   Column         Non-Null Count  Dtype \n",
      "---  ------         --------------  ----- \n",
      " 0   Artist         440 non-null    object\n",
      " 1   Track Name     440 non-null    object\n",
      " 2   Popularity     440 non-null    int64 \n",
      " 3   Duration (ms)  440 non-null    int64 \n",
      " 4   Track ID       440 non-null    object\n",
      "dtypes: int64(2), object(3)\n",
      "memory usage: 17.3+ KB\n"
     ]
    }
   ],
   "source": [
    "raw_data.info()"
   ]
  },
  {
   "cell_type": "markdown",
   "id": "9ad29865-8f68-4b65-9399-57d7fd27e256",
   "metadata": {},
   "source": [
    "### Check for any missing values"
   ]
  },
  {
   "cell_type": "code",
   "execution_count": 9,
   "id": "7360dbef-e3ae-480b-83bf-eb2b4578ff6c",
   "metadata": {
    "tags": []
   },
   "outputs": [
    {
     "data": {
      "text/plain": [
       "Artist           0\n",
       "Track Name       0\n",
       "Popularity       0\n",
       "Duration (ms)    0\n",
       "Track ID         0\n",
       "dtype: int64"
      ]
     },
     "execution_count": 9,
     "metadata": {},
     "output_type": "execute_result"
    }
   ],
   "source": [
    "data.isnull().sum()"
   ]
  },
  {
   "cell_type": "markdown",
   "id": "f4a742d9-72fc-4a7d-89b5-19ba987f1492",
   "metadata": {},
   "source": [
    "Here we can see that there is no missing values."
   ]
  },
  {
   "cell_type": "code",
   "execution_count": 11,
   "id": "ed48d901-a749-415b-bab3-d354db2f96f1",
   "metadata": {
    "tags": []
   },
   "outputs": [
    {
     "data": {
      "text/plain": [
       "Artist           115\n",
       "Track Name       412\n",
       "Popularity        51\n",
       "Duration (ms)    410\n",
       "Track ID         413\n",
       "dtype: int64"
      ]
     },
     "execution_count": 11,
     "metadata": {},
     "output_type": "execute_result"
    }
   ],
   "source": [
    "data.nunique() "
   ]
  },
  {
   "cell_type": "markdown",
   "id": "db744bfe-e22e-4537-ba23-cf9332be137a",
   "metadata": {},
   "source": [
    "### Check for any duplicates"
   ]
  },
  {
   "cell_type": "code",
   "execution_count": 14,
   "id": "0c3b2165-96e4-402e-9f42-5d41f6213060",
   "metadata": {
    "tags": []
   },
   "outputs": [
    {
     "data": {
      "text/html": [
       "<div>\n",
       "<style scoped>\n",
       "    .dataframe tbody tr th:only-of-type {\n",
       "        vertical-align: middle;\n",
       "    }\n",
       "\n",
       "    .dataframe tbody tr th {\n",
       "        vertical-align: top;\n",
       "    }\n",
       "\n",
       "    .dataframe thead th {\n",
       "        text-align: right;\n",
       "    }\n",
       "</style>\n",
       "<table border=\"1\" class=\"dataframe\">\n",
       "  <thead>\n",
       "    <tr style=\"text-align: right;\">\n",
       "      <th></th>\n",
       "      <th>Artist</th>\n",
       "      <th>Track Name</th>\n",
       "      <th>Popularity</th>\n",
       "      <th>Duration (ms)</th>\n",
       "      <th>Track ID</th>\n",
       "    </tr>\n",
       "  </thead>\n",
       "  <tbody>\n",
       "    <tr>\n",
       "      <th>39</th>\n",
       "      <td>Travis Scott</td>\n",
       "      <td>MELTDOWN (feat. Drake)</td>\n",
       "      <td>86</td>\n",
       "      <td>246133</td>\n",
       "      <td>67nepsnrcZkowTxMWigSbb</td>\n",
       "    </tr>\n",
       "    <tr>\n",
       "      <th>52</th>\n",
       "      <td>Travis Scott</td>\n",
       "      <td>TELEKINESIS (feat. SZA &amp; Future)</td>\n",
       "      <td>86</td>\n",
       "      <td>353754</td>\n",
       "      <td>1i9lZvlaDdWDPyXEE95aiq</td>\n",
       "    </tr>\n",
       "    <tr>\n",
       "      <th>72</th>\n",
       "      <td>21 Savage</td>\n",
       "      <td>née-nah</td>\n",
       "      <td>88</td>\n",
       "      <td>220584</td>\n",
       "      <td>2yUzr8Sr6ldG8vmHhZwTnz</td>\n",
       "    </tr>\n",
       "    <tr>\n",
       "      <th>73</th>\n",
       "      <td>Drake</td>\n",
       "      <td>Jimmy Cooks (feat. 21 Savage)</td>\n",
       "      <td>88</td>\n",
       "      <td>218364</td>\n",
       "      <td>3F5CgOj3wFlRv51JsHbxhe</td>\n",
       "    </tr>\n",
       "    <tr>\n",
       "      <th>76</th>\n",
       "      <td>Drake</td>\n",
       "      <td>Rich Flex</td>\n",
       "      <td>85</td>\n",
       "      <td>239359</td>\n",
       "      <td>1bDbXMyjaUIooNwFE9wn0N</td>\n",
       "    </tr>\n",
       "    <tr>\n",
       "      <th>131</th>\n",
       "      <td>Drake</td>\n",
       "      <td>First Person Shooter (feat. J. Cole)</td>\n",
       "      <td>88</td>\n",
       "      <td>247444</td>\n",
       "      <td>7aqfrAY2p9BUSiupwk3svU</td>\n",
       "    </tr>\n",
       "    <tr>\n",
       "      <th>170</th>\n",
       "      <td>Metro Boomin</td>\n",
       "      <td>Trance (with Travis Scott &amp; Young Thug)</td>\n",
       "      <td>89</td>\n",
       "      <td>194786</td>\n",
       "      <td>5wG3HvLhF6Y5KTGlK0IW3J</td>\n",
       "    </tr>\n",
       "    <tr>\n",
       "      <th>182</th>\n",
       "      <td>D-Block Europe</td>\n",
       "      <td>Overseas</td>\n",
       "      <td>74</td>\n",
       "      <td>222154</td>\n",
       "      <td>337kcYVjYXdLBItCw9ry3b</td>\n",
       "    </tr>\n",
       "    <tr>\n",
       "      <th>210</th>\n",
       "      <td>Post Malone</td>\n",
       "      <td>Sunflower - Spider-Man: Into the Spider-Verse</td>\n",
       "      <td>87</td>\n",
       "      <td>157560</td>\n",
       "      <td>0RiRZpuVRbi7oqRdSMwhQY</td>\n",
       "    </tr>\n",
       "    <tr>\n",
       "      <th>212</th>\n",
       "      <td>Metro Boomin</td>\n",
       "      <td>Annihilate (Spider-Man: Across the Spider-Vers...</td>\n",
       "      <td>79</td>\n",
       "      <td>231746</td>\n",
       "      <td>39MK3d3fonIP8Mz9oHCTBB</td>\n",
       "    </tr>\n",
       "    <tr>\n",
       "      <th>222</th>\n",
       "      <td>Cardi B</td>\n",
       "      <td>WAP (feat. Megan Thee Stallion)</td>\n",
       "      <td>80</td>\n",
       "      <td>187541</td>\n",
       "      <td>4Oun2ylbjFKMPTiaSbbCih</td>\n",
       "    </tr>\n",
       "    <tr>\n",
       "      <th>224</th>\n",
       "      <td>Cardi B</td>\n",
       "      <td>Bongos (feat. Megan Thee Stallion)</td>\n",
       "      <td>78</td>\n",
       "      <td>175099</td>\n",
       "      <td>4YQImHflXSiIMXntcwPkx8</td>\n",
       "    </tr>\n",
       "    <tr>\n",
       "      <th>242</th>\n",
       "      <td>Bizarrap</td>\n",
       "      <td>Quevedo: Bzrp Music Sessions, Vol. 52</td>\n",
       "      <td>87</td>\n",
       "      <td>198937</td>\n",
       "      <td>2tTmW7RDtMQtBk7m2rYeSw</td>\n",
       "    </tr>\n",
       "    <tr>\n",
       "      <th>270</th>\n",
       "      <td>Lil Durk</td>\n",
       "      <td>All My Life (feat. J. Cole)</td>\n",
       "      <td>74</td>\n",
       "      <td>223878</td>\n",
       "      <td>6T7FXSuXykeGktMLGp8WgE</td>\n",
       "    </tr>\n",
       "    <tr>\n",
       "      <th>280</th>\n",
       "      <td>¥$</td>\n",
       "      <td>CARNIVAL</td>\n",
       "      <td>96</td>\n",
       "      <td>264324</td>\n",
       "      <td>3w0w2T288dec0mgeZZqoNN</td>\n",
       "    </tr>\n",
       "    <tr>\n",
       "      <th>282</th>\n",
       "      <td>Travis Scott</td>\n",
       "      <td>FE!N (feat. Playboi Carti)</td>\n",
       "      <td>93</td>\n",
       "      <td>191700</td>\n",
       "      <td>42VsgItocQwOQC3XWZ8JNA</td>\n",
       "    </tr>\n",
       "    <tr>\n",
       "      <th>290</th>\n",
       "      <td>Lil Baby</td>\n",
       "      <td>Drip Too Hard (Lil Baby &amp; Gunna)</td>\n",
       "      <td>85</td>\n",
       "      <td>145542</td>\n",
       "      <td>78QR3Wp35dqAhFEc2qAGjE</td>\n",
       "    </tr>\n",
       "    <tr>\n",
       "      <th>297</th>\n",
       "      <td>Quality Control</td>\n",
       "      <td>Baby (Lil Baby feat. DaBaby)</td>\n",
       "      <td>77</td>\n",
       "      <td>142417</td>\n",
       "      <td>5MPPttjfGap2C6j6eKcO6J</td>\n",
       "    </tr>\n",
       "    <tr>\n",
       "      <th>310</th>\n",
       "      <td>Lil Nas X</td>\n",
       "      <td>INDUSTRY BABY (feat. Jack Harlow)</td>\n",
       "      <td>78</td>\n",
       "      <td>212352</td>\n",
       "      <td>5Z9KJZvQzH6PFmb8SNkxuk</td>\n",
       "    </tr>\n",
       "    <tr>\n",
       "      <th>331</th>\n",
       "      <td>Nicki Minaj</td>\n",
       "      <td>Everybody (feat. Lil Uzi Vert)</td>\n",
       "      <td>84</td>\n",
       "      <td>180869</td>\n",
       "      <td>5ZJGv7aGdIr9IGpxzSG18T</td>\n",
       "    </tr>\n",
       "    <tr>\n",
       "      <th>341</th>\n",
       "      <td>Snoop Dogg</td>\n",
       "      <td>Young, Wild &amp; Free (feat. Bruno Mars)</td>\n",
       "      <td>70</td>\n",
       "      <td>207346</td>\n",
       "      <td>6YbhspuOar1D9WSSnfe7ds</td>\n",
       "    </tr>\n",
       "    <tr>\n",
       "      <th>343</th>\n",
       "      <td>Lil Wayne</td>\n",
       "      <td>Sucker for Pain (with Wiz Khalifa, Imagine Dra...</td>\n",
       "      <td>77</td>\n",
       "      <td>243490</td>\n",
       "      <td>4dASQiO1Eoo3RJvt74FtXB</td>\n",
       "    </tr>\n",
       "    <tr>\n",
       "      <th>352</th>\n",
       "      <td>Nicki Minaj</td>\n",
       "      <td>Barbie World (with Aqua) [From Barbie The Album]</td>\n",
       "      <td>83</td>\n",
       "      <td>109750</td>\n",
       "      <td>741UUVE2kuITl0c6zuqqbO</td>\n",
       "    </tr>\n",
       "    <tr>\n",
       "      <th>422</th>\n",
       "      <td>Metro Boomin</td>\n",
       "      <td>Annihilate (Spider-Man: Across the Spider-Vers...</td>\n",
       "      <td>79</td>\n",
       "      <td>231746</td>\n",
       "      <td>39MK3d3fonIP8Mz9oHCTBB</td>\n",
       "    </tr>\n",
       "    <tr>\n",
       "      <th>430</th>\n",
       "      <td>French Montana</td>\n",
       "      <td>Unforgettable</td>\n",
       "      <td>87</td>\n",
       "      <td>233901</td>\n",
       "      <td>3B54sVLJ402zGa6Xm4YGNe</td>\n",
       "    </tr>\n",
       "    <tr>\n",
       "      <th>435</th>\n",
       "      <td>French Montana</td>\n",
       "      <td>Splash Brothers</td>\n",
       "      <td>44</td>\n",
       "      <td>221863</td>\n",
       "      <td>3fBsEOnzwtlkpS0LxXAZhN</td>\n",
       "    </tr>\n",
       "    <tr>\n",
       "      <th>439</th>\n",
       "      <td>Rick Ross</td>\n",
       "      <td>Stay Schemin</td>\n",
       "      <td>68</td>\n",
       "      <td>267720</td>\n",
       "      <td>0nq6sfr8z1R5KJ4XUk396e</td>\n",
       "    </tr>\n",
       "  </tbody>\n",
       "</table>\n",
       "</div>"
      ],
      "text/plain": [
       "              Artist                                         Track Name  \\\n",
       "39      Travis Scott                             MELTDOWN (feat. Drake)   \n",
       "52      Travis Scott                   TELEKINESIS (feat. SZA & Future)   \n",
       "72         21 Savage                                            née-nah   \n",
       "73             Drake                      Jimmy Cooks (feat. 21 Savage)   \n",
       "76             Drake                                          Rich Flex   \n",
       "131            Drake               First Person Shooter (feat. J. Cole)   \n",
       "170     Metro Boomin            Trance (with Travis Scott & Young Thug)   \n",
       "182   D-Block Europe                                           Overseas   \n",
       "210      Post Malone      Sunflower - Spider-Man: Into the Spider-Verse   \n",
       "212     Metro Boomin  Annihilate (Spider-Man: Across the Spider-Vers...   \n",
       "222          Cardi B                    WAP (feat. Megan Thee Stallion)   \n",
       "224          Cardi B                 Bongos (feat. Megan Thee Stallion)   \n",
       "242         Bizarrap              Quevedo: Bzrp Music Sessions, Vol. 52   \n",
       "270         Lil Durk                        All My Life (feat. J. Cole)   \n",
       "280               ¥$                                           CARNIVAL   \n",
       "282     Travis Scott                         FE!N (feat. Playboi Carti)   \n",
       "290         Lil Baby                   Drip Too Hard (Lil Baby & Gunna)   \n",
       "297  Quality Control                       Baby (Lil Baby feat. DaBaby)   \n",
       "310        Lil Nas X                  INDUSTRY BABY (feat. Jack Harlow)   \n",
       "331      Nicki Minaj                     Everybody (feat. Lil Uzi Vert)   \n",
       "341       Snoop Dogg              Young, Wild & Free (feat. Bruno Mars)   \n",
       "343        Lil Wayne  Sucker for Pain (with Wiz Khalifa, Imagine Dra...   \n",
       "352      Nicki Minaj   Barbie World (with Aqua) [From Barbie The Album]   \n",
       "422     Metro Boomin  Annihilate (Spider-Man: Across the Spider-Vers...   \n",
       "430   French Montana                                      Unforgettable   \n",
       "435   French Montana                                    Splash Brothers   \n",
       "439        Rick Ross                                       Stay Schemin   \n",
       "\n",
       "     Popularity  Duration (ms)                Track ID  \n",
       "39           86         246133  67nepsnrcZkowTxMWigSbb  \n",
       "52           86         353754  1i9lZvlaDdWDPyXEE95aiq  \n",
       "72           88         220584  2yUzr8Sr6ldG8vmHhZwTnz  \n",
       "73           88         218364  3F5CgOj3wFlRv51JsHbxhe  \n",
       "76           85         239359  1bDbXMyjaUIooNwFE9wn0N  \n",
       "131          88         247444  7aqfrAY2p9BUSiupwk3svU  \n",
       "170          89         194786  5wG3HvLhF6Y5KTGlK0IW3J  \n",
       "182          74         222154  337kcYVjYXdLBItCw9ry3b  \n",
       "210          87         157560  0RiRZpuVRbi7oqRdSMwhQY  \n",
       "212          79         231746  39MK3d3fonIP8Mz9oHCTBB  \n",
       "222          80         187541  4Oun2ylbjFKMPTiaSbbCih  \n",
       "224          78         175099  4YQImHflXSiIMXntcwPkx8  \n",
       "242          87         198937  2tTmW7RDtMQtBk7m2rYeSw  \n",
       "270          74         223878  6T7FXSuXykeGktMLGp8WgE  \n",
       "280          96         264324  3w0w2T288dec0mgeZZqoNN  \n",
       "282          93         191700  42VsgItocQwOQC3XWZ8JNA  \n",
       "290          85         145542  78QR3Wp35dqAhFEc2qAGjE  \n",
       "297          77         142417  5MPPttjfGap2C6j6eKcO6J  \n",
       "310          78         212352  5Z9KJZvQzH6PFmb8SNkxuk  \n",
       "331          84         180869  5ZJGv7aGdIr9IGpxzSG18T  \n",
       "341          70         207346  6YbhspuOar1D9WSSnfe7ds  \n",
       "343          77         243490  4dASQiO1Eoo3RJvt74FtXB  \n",
       "352          83         109750  741UUVE2kuITl0c6zuqqbO  \n",
       "422          79         231746  39MK3d3fonIP8Mz9oHCTBB  \n",
       "430          87         233901  3B54sVLJ402zGa6Xm4YGNe  \n",
       "435          44         221863  3fBsEOnzwtlkpS0LxXAZhN  \n",
       "439          68         267720  0nq6sfr8z1R5KJ4XUk396e  "
      ]
     },
     "execution_count": 14,
     "metadata": {},
     "output_type": "execute_result"
    }
   ],
   "source": [
    "data[data.duplicated()]"
   ]
  },
  {
   "cell_type": "code",
   "execution_count": 15,
   "id": "8508dcb6-2f3b-4e93-b611-05c554c9bdd1",
   "metadata": {
    "tags": []
   },
   "outputs": [
    {
     "data": {
      "text/html": [
       "<div>\n",
       "<style scoped>\n",
       "    .dataframe tbody tr th:only-of-type {\n",
       "        vertical-align: middle;\n",
       "    }\n",
       "\n",
       "    .dataframe tbody tr th {\n",
       "        vertical-align: top;\n",
       "    }\n",
       "\n",
       "    .dataframe thead th {\n",
       "        text-align: right;\n",
       "    }\n",
       "</style>\n",
       "<table border=\"1\" class=\"dataframe\">\n",
       "  <thead>\n",
       "    <tr style=\"text-align: right;\">\n",
       "      <th></th>\n",
       "      <th>Artist</th>\n",
       "      <th>Track Name</th>\n",
       "      <th>Popularity</th>\n",
       "      <th>Duration (ms)</th>\n",
       "      <th>Track ID</th>\n",
       "    </tr>\n",
       "  </thead>\n",
       "  <tbody>\n",
       "    <tr>\n",
       "      <th>415</th>\n",
       "      <td>Rick Ross</td>\n",
       "      <td>Stay Schemin</td>\n",
       "      <td>68</td>\n",
       "      <td>267720</td>\n",
       "      <td>0nq6sfr8z1R5KJ4XUk396e</td>\n",
       "    </tr>\n",
       "    <tr>\n",
       "      <th>439</th>\n",
       "      <td>Rick Ross</td>\n",
       "      <td>Stay Schemin</td>\n",
       "      <td>68</td>\n",
       "      <td>267720</td>\n",
       "      <td>0nq6sfr8z1R5KJ4XUk396e</td>\n",
       "    </tr>\n",
       "  </tbody>\n",
       "</table>\n",
       "</div>"
      ],
      "text/plain": [
       "        Artist    Track Name  Popularity  Duration (ms)  \\\n",
       "415  Rick Ross  Stay Schemin          68         267720   \n",
       "439  Rick Ross  Stay Schemin          68         267720   \n",
       "\n",
       "                   Track ID  \n",
       "415  0nq6sfr8z1R5KJ4XUk396e  \n",
       "439  0nq6sfr8z1R5KJ4XUk396e  "
      ]
     },
     "execution_count": 15,
     "metadata": {},
     "output_type": "execute_result"
    }
   ],
   "source": [
    "data[data['Track ID'] == '0nq6sfr8z1R5KJ4XUk396e']"
   ]
  },
  {
   "cell_type": "code",
   "execution_count": 17,
   "id": "df724926-3758-4bcc-93f7-17c7022d298b",
   "metadata": {
    "tags": []
   },
   "outputs": [
    {
     "data": {
      "text/plain": [
       "27"
      ]
     },
     "execution_count": 17,
     "metadata": {},
     "output_type": "execute_result"
    }
   ],
   "source": [
    "data.duplicated().sum()"
   ]
  },
  {
   "cell_type": "markdown",
   "id": "0d4d81d2-cadc-423a-a913-45e50b9a8903",
   "metadata": {},
   "source": [
    "In dataset, identified 27 duplicate records. Addressing these duplicates is crucial to maintain the integrity of our analysis and ensure accurate insights. Appropriate measures should be taken to handle these duplicate records during the data preprocessing stage"
   ]
  },
  {
   "cell_type": "markdown",
   "id": "df30798f-ebb1-4382-aa9d-75901e8cd3a2",
   "metadata": {},
   "source": [
    "### Summary Statistics"
   ]
  },
  {
   "cell_type": "code",
   "execution_count": 21,
   "id": "943a55bd-a4b4-4343-b687-f1dad8fd788b",
   "metadata": {
    "tags": []
   },
   "outputs": [
    {
     "data": {
      "text/html": [
       "<div>\n",
       "<style scoped>\n",
       "    .dataframe tbody tr th:only-of-type {\n",
       "        vertical-align: middle;\n",
       "    }\n",
       "\n",
       "    .dataframe tbody tr th {\n",
       "        vertical-align: top;\n",
       "    }\n",
       "\n",
       "    .dataframe thead th {\n",
       "        text-align: right;\n",
       "    }\n",
       "</style>\n",
       "<table border=\"1\" class=\"dataframe\">\n",
       "  <thead>\n",
       "    <tr style=\"text-align: right;\">\n",
       "      <th></th>\n",
       "      <th>count</th>\n",
       "      <th>mean</th>\n",
       "      <th>std</th>\n",
       "      <th>min</th>\n",
       "      <th>25%</th>\n",
       "      <th>50%</th>\n",
       "      <th>75%</th>\n",
       "      <th>max</th>\n",
       "    </tr>\n",
       "  </thead>\n",
       "  <tbody>\n",
       "    <tr>\n",
       "      <th>Popularity</th>\n",
       "      <td>440.0</td>\n",
       "      <td>75.736364</td>\n",
       "      <td>9.886534</td>\n",
       "      <td>29.0</td>\n",
       "      <td>70.0</td>\n",
       "      <td>77.0</td>\n",
       "      <td>83.00</td>\n",
       "      <td>97.0</td>\n",
       "    </tr>\n",
       "    <tr>\n",
       "      <th>Duration (ms)</th>\n",
       "      <td>440.0</td>\n",
       "      <td>206810.040909</td>\n",
       "      <td>53576.930289</td>\n",
       "      <td>81666.0</td>\n",
       "      <td>172778.5</td>\n",
       "      <td>201866.0</td>\n",
       "      <td>235119.75</td>\n",
       "      <td>501648.0</td>\n",
       "    </tr>\n",
       "  </tbody>\n",
       "</table>\n",
       "</div>"
      ],
      "text/plain": [
       "               count           mean           std      min       25%  \\\n",
       "Popularity     440.0      75.736364      9.886534     29.0      70.0   \n",
       "Duration (ms)  440.0  206810.040909  53576.930289  81666.0  172778.5   \n",
       "\n",
       "                    50%        75%       max  \n",
       "Popularity         77.0      83.00      97.0  \n",
       "Duration (ms)  201866.0  235119.75  501648.0  "
      ]
     },
     "execution_count": 21,
     "metadata": {},
     "output_type": "execute_result"
    }
   ],
   "source": [
    "data.describe().T"
   ]
  },
  {
   "cell_type": "code",
   "execution_count": 23,
   "id": "7895280a-1115-4f70-b732-d1cae1b083e8",
   "metadata": {
    "tags": []
   },
   "outputs": [
    {
     "data": {
      "text/html": [
       "<div>\n",
       "<style scoped>\n",
       "    .dataframe tbody tr th:only-of-type {\n",
       "        vertical-align: middle;\n",
       "    }\n",
       "\n",
       "    .dataframe tbody tr th {\n",
       "        vertical-align: top;\n",
       "    }\n",
       "\n",
       "    .dataframe thead th {\n",
       "        text-align: right;\n",
       "    }\n",
       "</style>\n",
       "<table border=\"1\" class=\"dataframe\">\n",
       "  <thead>\n",
       "    <tr style=\"text-align: right;\">\n",
       "      <th></th>\n",
       "      <th>count</th>\n",
       "      <th>unique</th>\n",
       "      <th>top</th>\n",
       "      <th>freq</th>\n",
       "      <th>mean</th>\n",
       "      <th>std</th>\n",
       "      <th>min</th>\n",
       "      <th>25%</th>\n",
       "      <th>50%</th>\n",
       "      <th>75%</th>\n",
       "      <th>max</th>\n",
       "    </tr>\n",
       "  </thead>\n",
       "  <tbody>\n",
       "    <tr>\n",
       "      <th>Artist</th>\n",
       "      <td>440</td>\n",
       "      <td>115</td>\n",
       "      <td>Drake</td>\n",
       "      <td>20</td>\n",
       "      <td>NaN</td>\n",
       "      <td>NaN</td>\n",
       "      <td>NaN</td>\n",
       "      <td>NaN</td>\n",
       "      <td>NaN</td>\n",
       "      <td>NaN</td>\n",
       "      <td>NaN</td>\n",
       "    </tr>\n",
       "    <tr>\n",
       "      <th>Track Name</th>\n",
       "      <td>440</td>\n",
       "      <td>412</td>\n",
       "      <td>Annihilate (Spider-Man: Across the Spider-Vers...</td>\n",
       "      <td>3</td>\n",
       "      <td>NaN</td>\n",
       "      <td>NaN</td>\n",
       "      <td>NaN</td>\n",
       "      <td>NaN</td>\n",
       "      <td>NaN</td>\n",
       "      <td>NaN</td>\n",
       "      <td>NaN</td>\n",
       "    </tr>\n",
       "    <tr>\n",
       "      <th>Popularity</th>\n",
       "      <td>440.0</td>\n",
       "      <td>NaN</td>\n",
       "      <td>NaN</td>\n",
       "      <td>NaN</td>\n",
       "      <td>75.736364</td>\n",
       "      <td>9.886534</td>\n",
       "      <td>29.0</td>\n",
       "      <td>70.0</td>\n",
       "      <td>77.0</td>\n",
       "      <td>83.0</td>\n",
       "      <td>97.0</td>\n",
       "    </tr>\n",
       "    <tr>\n",
       "      <th>Duration (ms)</th>\n",
       "      <td>440.0</td>\n",
       "      <td>NaN</td>\n",
       "      <td>NaN</td>\n",
       "      <td>NaN</td>\n",
       "      <td>206810.040909</td>\n",
       "      <td>53576.930289</td>\n",
       "      <td>81666.0</td>\n",
       "      <td>172778.5</td>\n",
       "      <td>201866.0</td>\n",
       "      <td>235119.75</td>\n",
       "      <td>501648.0</td>\n",
       "    </tr>\n",
       "    <tr>\n",
       "      <th>Track ID</th>\n",
       "      <td>440</td>\n",
       "      <td>413</td>\n",
       "      <td>39MK3d3fonIP8Mz9oHCTBB</td>\n",
       "      <td>3</td>\n",
       "      <td>NaN</td>\n",
       "      <td>NaN</td>\n",
       "      <td>NaN</td>\n",
       "      <td>NaN</td>\n",
       "      <td>NaN</td>\n",
       "      <td>NaN</td>\n",
       "      <td>NaN</td>\n",
       "    </tr>\n",
       "  </tbody>\n",
       "</table>\n",
       "</div>"
      ],
      "text/plain": [
       "               count unique  \\\n",
       "Artist           440    115   \n",
       "Track Name       440    412   \n",
       "Popularity     440.0    NaN   \n",
       "Duration (ms)  440.0    NaN   \n",
       "Track ID         440    413   \n",
       "\n",
       "                                                             top freq  \\\n",
       "Artist                                                     Drake   20   \n",
       "Track Name     Annihilate (Spider-Man: Across the Spider-Vers...    3   \n",
       "Popularity                                                   NaN  NaN   \n",
       "Duration (ms)                                                NaN  NaN   \n",
       "Track ID                                  39MK3d3fonIP8Mz9oHCTBB    3   \n",
       "\n",
       "                        mean           std      min       25%       50%  \\\n",
       "Artist                   NaN           NaN      NaN       NaN       NaN   \n",
       "Track Name               NaN           NaN      NaN       NaN       NaN   \n",
       "Popularity         75.736364      9.886534     29.0      70.0      77.0   \n",
       "Duration (ms)  206810.040909  53576.930289  81666.0  172778.5  201866.0   \n",
       "Track ID                 NaN           NaN      NaN       NaN       NaN   \n",
       "\n",
       "                     75%       max  \n",
       "Artist               NaN       NaN  \n",
       "Track Name           NaN       NaN  \n",
       "Popularity          83.0      97.0  \n",
       "Duration (ms)  235119.75  501648.0  \n",
       "Track ID             NaN       NaN  "
      ]
     },
     "execution_count": 23,
     "metadata": {},
     "output_type": "execute_result"
    }
   ],
   "source": [
    "data.describe(include='all').T"
   ]
  },
  {
   "cell_type": "markdown",
   "id": "b8fd2d85-6501-4d52-8fde-e8bf1f6eaa14",
   "metadata": {},
   "source": [
    "### Get columns that having unique values across the dataset"
   ]
  },
  {
   "cell_type": "code",
   "execution_count": 25,
   "id": "40a9ad7b-0523-4059-a729-283dc7837150",
   "metadata": {
    "tags": []
   },
   "outputs": [
    {
     "data": {
      "text/plain": [
       "[]"
      ]
     },
     "execution_count": 25,
     "metadata": {},
     "output_type": "execute_result"
    }
   ],
   "source": [
    "columns_having_unique_values = []\n",
    "for column in data.columns:\n",
    "    if data[column].nunique() == data[column].shape[0]:\n",
    "        columns_having_unique_values.append(column)\n",
    "columns_having_unique_values"
   ]
  },
  {
   "cell_type": "markdown",
   "id": "b15b0bbf-4a51-4d17-b61b-578a312d9ede",
   "metadata": {},
   "source": [
    "No columns in the dataset contain unique values, indicating potential redundancy or inconsistencies across variables.This requires further investigation to assess its impact on analysis."
   ]
  },
  {
   "cell_type": "markdown",
   "id": "f21adf72-4fcc-452f-8cf0-3fbc01f62f73",
   "metadata": {
    "tags": []
   },
   "source": [
    "## Data Cleaning"
   ]
  },
  {
   "cell_type": "markdown",
   "id": "84e365ea-7771-46ee-966b-52a9c1758c13",
   "metadata": {},
   "source": [
    "### Remove duplicates based on entire rows"
   ]
  },
  {
   "cell_type": "code",
   "execution_count": 5,
   "id": "68f05713-4fac-4663-a5f4-0540c332d97c",
   "metadata": {
    "tags": []
   },
   "outputs": [
    {
     "data": {
      "text/plain": [
       "(440, 5)"
      ]
     },
     "execution_count": 5,
     "metadata": {},
     "output_type": "execute_result"
    }
   ],
   "source": [
    "data.shape"
   ]
  },
  {
   "cell_type": "code",
   "execution_count": 6,
   "id": "d383f2f8-bb04-4e9c-9940-71d8e18316d1",
   "metadata": {
    "tags": []
   },
   "outputs": [
    {
     "data": {
      "text/plain": [
       "(413, 5)"
      ]
     },
     "execution_count": 6,
     "metadata": {},
     "output_type": "execute_result"
    }
   ],
   "source": [
    "df = data.drop_duplicates()\n",
    "df.shape"
   ]
  },
  {
   "cell_type": "code",
   "execution_count": 7,
   "id": "87363b03-b759-4fc5-9585-f7e37425d491",
   "metadata": {
    "tags": []
   },
   "outputs": [
    {
     "data": {
      "text/plain": [
       "0"
      ]
     },
     "execution_count": 7,
     "metadata": {},
     "output_type": "execute_result"
    }
   ],
   "source": [
    "df.duplicated().sum()"
   ]
  },
  {
   "cell_type": "markdown",
   "id": "7322db9b-ad88-437a-a7d7-be085cb61ba9",
   "metadata": {
    "jp-MarkdownHeadingCollapsed": true,
    "tags": []
   },
   "source": [
    "### Seggregate the columns based on datatypes"
   ]
  },
  {
   "cell_type": "code",
   "execution_count": 30,
   "id": "7e9a7035-886d-4e1e-9f78-697a84138786",
   "metadata": {
    "tags": []
   },
   "outputs": [
    {
     "data": {
      "text/plain": [
       "Artist           object\n",
       "Track Name       object\n",
       "Popularity        int64\n",
       "Duration (ms)     int64\n",
       "Track ID         object\n",
       "dtype: object"
      ]
     },
     "execution_count": 30,
     "metadata": {},
     "output_type": "execute_result"
    }
   ],
   "source": [
    "df.dtypes"
   ]
  },
  {
   "cell_type": "code",
   "execution_count": 31,
   "id": "a9d7b53e-79da-48be-8179-b724db4e849a",
   "metadata": {
    "tags": []
   },
   "outputs": [
    {
     "data": {
      "text/plain": [
       "\"['Artist', 'Track Name', 'Track ID']\""
      ]
     },
     "execution_count": 31,
     "metadata": {},
     "output_type": "execute_result"
    }
   ],
   "source": [
    "categorical_features = [features for features in df.columns if df[features].dtype == 'O']\n",
    "str(categorical_features)"
   ]
  },
  {
   "cell_type": "code",
   "execution_count": 32,
   "id": "bcd321d8-7143-4dc0-85a3-b2c5bf2fb97b",
   "metadata": {
    "tags": []
   },
   "outputs": [
    {
     "data": {
      "text/plain": [
       "['Popularity', 'Duration (ms)']"
      ]
     },
     "execution_count": 32,
     "metadata": {},
     "output_type": "execute_result"
    }
   ],
   "source": [
    "numerical_features = [features for features in df.columns if df[features].dtype != 'O']\n",
    "numerical_features"
   ]
  },
  {
   "cell_type": "markdown",
   "id": "f93779d9-b596-4f48-8939-0984a7bac260",
   "metadata": {},
   "source": [
    "## Data Analysis"
   ]
  },
  {
   "cell_type": "markdown",
   "id": "4b07344b-053c-4ca6-8146-00acf034effd",
   "metadata": {
    "jp-MarkdownHeadingCollapsed": true,
    "tags": []
   },
   "source": [
    "### 1. Identify the top 5 popular artists based on the mean popularity of their tracks.Show the mean popularity of tracks for the top 5 popular artists Using BarPlot."
   ]
  },
  {
   "cell_type": "code",
   "execution_count": 33,
   "id": "f23876fe-4c03-478d-ba43-0796502aa00c",
   "metadata": {
    "tags": []
   },
   "outputs": [
    {
     "data": {
      "text/plain": [
       "Index(['Artist', 'Track Name', 'Popularity', 'Duration (ms)', 'Track ID'], dtype='object')"
      ]
     },
     "execution_count": 33,
     "metadata": {},
     "output_type": "execute_result"
    }
   ],
   "source": [
    "df.columns"
   ]
  },
  {
   "cell_type": "code",
   "execution_count": 34,
   "id": "412a8d39-6457-4f6d-b3fc-432acfc7776f",
   "metadata": {
    "tags": []
   },
   "outputs": [
    {
     "data": {
      "text/plain": [
       "Artist\n",
       "*NSYNC                    67.00\n",
       "2 Chainz                  72.00\n",
       "21 Savage                 83.80\n",
       "A Boogie Wit da Hoodie    80.00\n",
       "A$AP Ferg                 69.00\n",
       "                          ...  \n",
       "Young Nudy                67.00\n",
       "Young Thug                73.75\n",
       "benny blanco              72.00\n",
       "cassö                     92.00\n",
       "¥$                        85.10\n",
       "Name: Popularity, Length: 115, dtype: float64"
      ]
     },
     "execution_count": 34,
     "metadata": {},
     "output_type": "execute_result"
    }
   ],
   "source": [
    "# Calculate mean popularity for each Artist\n",
    "artist_popularity = df.groupby('Artist')['Popularity'].mean()\n",
    "artist_popularity"
   ]
  },
  {
   "cell_type": "code",
   "execution_count": 35,
   "id": "1941ecf9-4957-443e-8b48-03a344090e4a",
   "metadata": {
    "tags": []
   },
   "outputs": [
    {
     "data": {
      "text/plain": [
       "Artist\n",
       "cassö             92.000000\n",
       "Trueno            89.000000\n",
       "David Guetta      87.000000\n",
       "Travis Scott      86.555556\n",
       "¥$                85.100000\n",
       "                    ...    \n",
       "RAYE              55.000000\n",
       "Wyclef Jean       54.500000\n",
       "Arizona Zervas    54.000000\n",
       "Justin Bieber     49.000000\n",
       "Pressa            29.000000\n",
       "Name: Popularity, Length: 115, dtype: float64"
      ]
     },
     "execution_count": 35,
     "metadata": {},
     "output_type": "execute_result"
    }
   ],
   "source": [
    "# Sort the artists based on mean popularity in descending order\n",
    "sorted_artists = artist_popularity.sort_values(ascending=False)\n",
    "sorted_artists"
   ]
  },
  {
   "cell_type": "code",
   "execution_count": 37,
   "id": "eb7ad5ee-ac97-4153-ba6f-809acba03099",
   "metadata": {
    "tags": []
   },
   "outputs": [
    {
     "data": {
      "text/plain": [
       "Artist\n",
       "cassö           92.000000\n",
       "Trueno          89.000000\n",
       "David Guetta    87.000000\n",
       "Travis Scott    86.555556\n",
       "¥$              85.100000\n",
       "Name: Popularity, dtype: float64"
      ]
     },
     "execution_count": 37,
     "metadata": {},
     "output_type": "execute_result"
    }
   ],
   "source": [
    "# Select the top 5 popular artists\n",
    "top_5_artists = sorted_artists.head(5)\n",
    "top_5_artists"
   ]
  },
  {
   "cell_type": "code",
   "execution_count": 52,
   "id": "a565d1c1-80e4-4b80-931e-de9bc59d1ea2",
   "metadata": {
    "tags": []
   },
   "outputs": [
    {
     "data": {
      "image/png": "[encoded data removed]",
      "text/plain": [
       "<Figure size 1200x800 with 1 Axes>"
      ]
     },
     "metadata": {},
     "output_type": "display_data"
    }
   ],
   "source": [
    "# Plotting the top 5 popular artists\n",
    "colors = ['#1f77b4', '#ff7f0e', '#2ca02c', '#d62728', '#9467bd']\n",
    "\n",
    "plt.figure(figsize=(12, 8))\n",
    "top_5_artists.plot(kind='bar', color=colors, edgecolor='black')\n",
    "\n",
    "plt.title('Top 5 Popular Artists based on Mean Popularity of Tracks', fontsize=16)\n",
    "plt.xlabel('Artist', fontsize=14)\n",
    "plt.ylabel('Mean Popularity', fontsize=14)\n",
    "\n",
    "plt.xticks(rotation=45, ha='right', fontsize=12)  # Rotate x-axis labels for better readability\n",
    "plt.yticks(fontsize=12)\n",
    "plt.grid(axis='y', linestyle='--', alpha=0.7)\n",
    "\n",
    "for i, v in enumerate(top_5_artists):\n",
    "    plt.text(i, v + 0.1, str(round(v, 2)), ha='center', va='bottom', fontsize=12)\n",
    "\n",
    "plt.tight_layout()\n",
    "plt.show()"
   ]
  },
  {
   "cell_type": "markdown",
   "id": "307c8544-9b25-421b-8483-a8dc1a09bc0e",
   "metadata": {
    "tags": []
   },
   "source": [
    "### 2. Determine the top 5 popular songs based on their popularity ratings.Display the popularity ratings of the top 5 popular songs using BarPlot."
   ]
  },
  {
   "cell_type": "code",
   "execution_count": 53,
   "id": "6b5de8dc-4392-4321-8e0c-f868924c9316",
   "metadata": {
    "tags": []
   },
   "outputs": [],
   "source": [
    "# Sort the data by 'Popularity' column in descending order and select the top 5 \n",
    "top_5_songs = df.sort_values(by='Popularity', ascending=False).head(5)"
   ]
  },
  {
   "cell_type": "code",
   "execution_count": 54,
   "id": "b4dc60f6-5aab-40f6-b080-cda184558c58",
   "metadata": {
    "tags": []
   },
   "outputs": [
    {
     "data": {
      "text/html": [
       "<div>\n",
       "<style scoped>\n",
       "    .dataframe tbody tr th:only-of-type {\n",
       "        vertical-align: middle;\n",
       "    }\n",
       "\n",
       "    .dataframe tbody tr th {\n",
       "        vertical-align: top;\n",
       "    }\n",
       "\n",
       "    .dataframe thead th {\n",
       "        text-align: right;\n",
       "    }\n",
       "</style>\n",
       "<table border=\"1\" class=\"dataframe\">\n",
       "  <thead>\n",
       "    <tr style=\"text-align: right;\">\n",
       "      <th></th>\n",
       "      <th>Track Name</th>\n",
       "      <th>Popularity</th>\n",
       "    </tr>\n",
       "  </thead>\n",
       "  <tbody>\n",
       "    <tr>\n",
       "      <th>40</th>\n",
       "      <td>Lovin On Me</td>\n",
       "      <td>97</td>\n",
       "    </tr>\n",
       "    <tr>\n",
       "      <th>70</th>\n",
       "      <td>redrum</td>\n",
       "      <td>96</td>\n",
       "    </tr>\n",
       "    <tr>\n",
       "      <th>260</th>\n",
       "      <td>CARNIVAL</td>\n",
       "      <td>96</td>\n",
       "    </tr>\n",
       "    <tr>\n",
       "      <th>30</th>\n",
       "      <td>FE!N (feat. Playboi Carti)</td>\n",
       "      <td>93</td>\n",
       "    </tr>\n",
       "    <tr>\n",
       "      <th>140</th>\n",
       "      <td>Prada</td>\n",
       "      <td>92</td>\n",
       "    </tr>\n",
       "  </tbody>\n",
       "</table>\n",
       "</div>"
      ],
      "text/plain": [
       "                     Track Name  Popularity\n",
       "40                  Lovin On Me          97\n",
       "70                       redrum          96\n",
       "260                    CARNIVAL          96\n",
       "30   FE!N (feat. Playboi Carti)          93\n",
       "140                       Prada          92"
      ]
     },
     "execution_count": 54,
     "metadata": {},
     "output_type": "execute_result"
    }
   ],
   "source": [
    "top_5_songs[['Track Name', 'Popularity']]"
   ]
  },
  {
   "cell_type": "code",
   "execution_count": 62,
   "id": "124b808e-ab64-4281-bce6-3c3c4564ae93",
   "metadata": {
    "tags": []
   },
   "outputs": [
    {
     "data": {
      "image/png": "[encoded data removed]",
      "text/plain": [
       "<Figure size 1000x600 with 1 Axes>"
      ]
     },
     "metadata": {},
     "output_type": "display_data"
    }
   ],
   "source": [
    "# Plotting the popularity ratings of the top 5 popular songs\n",
    "colors = plt.cm.viridis(np.linspace(0, 1, len(top_5_songs)))\n",
    "\n",
    "plt.figure(figsize=(10, 6))\n",
    "bars = plt.barh(top_5_songs['Track Name'], top_5_songs['Popularity'], color=colors)\n",
    "\n",
    "plt.title('Top 5 Popular Songs Based on Popularity Ratings', fontsize=16)\n",
    "plt.xlabel('Popularity Rating', fontsize=14)\n",
    "plt.ylabel('Song', fontsize=14)\n",
    "\n",
    "# Add data labels\n",
    "for bar in bars:\n",
    "    plt.text(bar.get_width() + 0.2, bar.get_y() + bar.get_height()/2, \n",
    "             str(int(bar.get_width())), va='center', ha='left', fontsize=12)\n",
    "\n",
    "plt.gca().invert_yaxis()  # Invert y-axis to display the most popular song on top\n",
    "plt.grid(axis='x', linestyle='--', alpha=0.7)  # Add grid lines for reference\n",
    "\n",
    "plt.tight_layout()\n",
    "plt.show()"
   ]
  },
  {
   "cell_type": "markdown",
   "id": "ca9935d8-5b11-4257-be0a-9893965a45cd",
   "metadata": {},
   "source": [
    "### 3. Find the top 5 trending genres based on the mean popularity of tracks within each genre.Visualize the mean popularity of tracks for the top 5 trending genres."
   ]
  },
  {
   "cell_type": "code",
   "execution_count": 64,
   "id": "5c4d4adc-8db0-4379-8cad-bf3faeadca52",
   "metadata": {
    "tags": []
   },
   "outputs": [
    {
     "data": {
      "text/plain": [
       "Index(['Artist', 'Track Name', 'Popularity', 'Duration (ms)', 'Track ID'], dtype='object')"
      ]
     },
     "execution_count": 64,
     "metadata": {},
     "output_type": "execute_result"
    }
   ],
   "source": [
    "df.columns"
   ]
  },
  {
   "cell_type": "markdown",
   "id": "39b31aa2-c7b7-4182-910d-028837bd20b9",
   "metadata": {
    "tags": []
   },
   "source": [
    "No column 'Genre' in the dataset, so considering the column 'Track Name'"
   ]
  },
  {
   "cell_type": "code",
   "execution_count": 9,
   "id": "2d437490-cba1-4859-bd2c-6a11a0f0ca77",
   "metadata": {
    "tags": []
   },
   "outputs": [
    {
     "data": {
      "text/plain": [
       "Track Name\n",
       "Lovin On Me                   97.0\n",
       "redrum                        96.0\n",
       "CARNIVAL                      96.0\n",
       "FE!N (feat. Playboi Carti)    93.0\n",
       "Prada                         92.0\n",
       "Name: Popularity, dtype: float64"
      ]
     },
     "execution_count": 9,
     "metadata": {},
     "output_type": "execute_result"
    }
   ],
   "source": [
    "top_5_trend_tracks = (\n",
    "    df.groupby('Track Name')['Popularity'].mean()\n",
    "    .sort_values(ascending=False)\n",
    "    .head(5)\n",
    "    # .index.tolist()\n",
    ")\n",
    "top_5_trend_tracks"
   ]
  },
  {
   "cell_type": "code",
   "execution_count": 13,
   "id": "5145ddb4-183e-4ad9-b939-b538f82ea04b",
   "metadata": {
    "tags": []
   },
   "outputs": [
    {
     "data": {
      "image/png": "[encoded data removed]",
      "text/plain": [
       "<Figure size 1000x600 with 1 Axes>"
      ]
     },
     "metadata": {},
     "output_type": "display_data"
    }
   ],
   "source": [
    "# Plot the bar chart\n",
    "plt.figure(figsize=(10, 6))\n",
    "top_5_trend_tracks.plot(kind='bar', color='skyblue')\n",
    "plt.title('Top 5 Trend Tracks by Average Popularity')\n",
    "plt.xlabel('Track Name')\n",
    "plt.ylabel('Average Popularity')\n",
    "plt.xticks(rotation=45)\n",
    "plt.grid(axis='y', linestyle='--', alpha=0.7)\n",
    "plt.tight_layout()\n",
    "plt.show()"
   ]
  },
  {
   "cell_type": "markdown",
   "id": "cf3d9719-9487-45ca-8b22-d2591878d589",
   "metadata": {
    "tags": []
   },
   "source": [
    "### 4. Identify the top 5 longest songs among the tracks of the top 5 popular artists. Represent the duration of the top 5 longest songs among the tracks of the top 5 popular artists using BarPlot."
   ]
  },
  {
   "cell_type": "code",
   "execution_count": 82,
   "id": "970e6e58-1598-4409-90bb-7dd38d81701f",
   "metadata": {
    "tags": []
   },
   "outputs": [
    {
     "data": {
      "text/plain": [
       "['cassö', 'Trueno', 'David Guetta', 'Travis Scott', '¥$']"
      ]
     },
     "execution_count": 82,
     "metadata": {},
     "output_type": "execute_result"
    }
   ],
   "source": [
    "top_5_artists = (\n",
    "    df.groupby('Artist')['Popularity'].mean()\n",
    "    .sort_values(ascending=False)\n",
    "    .head(5)\n",
    "    .index.tolist()\n",
    ")\n",
    "top_5_artists"
   ]
  },
  {
   "cell_type": "code",
   "execution_count": 84,
   "id": "5374ff04-9be7-406f-89de-93456e404ebe",
   "metadata": {
    "tags": []
   },
   "outputs": [
    {
     "data": {
      "text/html": [
       "<div>\n",
       "<style scoped>\n",
       "    .dataframe tbody tr th:only-of-type {\n",
       "        vertical-align: middle;\n",
       "    }\n",
       "\n",
       "    .dataframe tbody tr th {\n",
       "        vertical-align: top;\n",
       "    }\n",
       "\n",
       "    .dataframe thead th {\n",
       "        text-align: right;\n",
       "    }\n",
       "</style>\n",
       "<table border=\"1\" class=\"dataframe\">\n",
       "  <thead>\n",
       "    <tr style=\"text-align: right;\">\n",
       "      <th></th>\n",
       "      <th>Artist</th>\n",
       "      <th>Track Name</th>\n",
       "      <th>Popularity</th>\n",
       "      <th>Duration (ms)</th>\n",
       "      <th>Track ID</th>\n",
       "    </tr>\n",
       "  </thead>\n",
       "  <tbody>\n",
       "    <tr>\n",
       "      <th>7</th>\n",
       "      <td>Travis Scott</td>\n",
       "      <td>MELTDOWN (feat. Drake)</td>\n",
       "      <td>86</td>\n",
       "      <td>246133</td>\n",
       "      <td>67nepsnrcZkowTxMWigSbb</td>\n",
       "    </tr>\n",
       "    <tr>\n",
       "      <th>30</th>\n",
       "      <td>Travis Scott</td>\n",
       "      <td>FE!N (feat. Playboi Carti)</td>\n",
       "      <td>93</td>\n",
       "      <td>191700</td>\n",
       "      <td>42VsgItocQwOQC3XWZ8JNA</td>\n",
       "    </tr>\n",
       "    <tr>\n",
       "      <th>31</th>\n",
       "      <td>Travis Scott</td>\n",
       "      <td>I KNOW ?</td>\n",
       "      <td>92</td>\n",
       "      <td>211582</td>\n",
       "      <td>6wsqVwoiVH2kde4k4KKAFU</td>\n",
       "    </tr>\n",
       "    <tr>\n",
       "      <th>32</th>\n",
       "      <td>Travis Scott</td>\n",
       "      <td>MY EYES</td>\n",
       "      <td>91</td>\n",
       "      <td>251249</td>\n",
       "      <td>4kjI1gwQZRKNDkw1nI475M</td>\n",
       "    </tr>\n",
       "    <tr>\n",
       "      <th>33</th>\n",
       "      <td>Travis Scott</td>\n",
       "      <td>goosebumps</td>\n",
       "      <td>89</td>\n",
       "      <td>243836</td>\n",
       "      <td>6gBFPUFcJLzWGx4lenP6h2</td>\n",
       "    </tr>\n",
       "    <tr>\n",
       "      <th>37</th>\n",
       "      <td>Travis Scott</td>\n",
       "      <td>SICKO MODE</td>\n",
       "      <td>87</td>\n",
       "      <td>312820</td>\n",
       "      <td>2xLMifQCjDGFmkHkpNLD9h</td>\n",
       "    </tr>\n",
       "    <tr>\n",
       "      <th>38</th>\n",
       "      <td>Travis Scott</td>\n",
       "      <td>TELEKINESIS (feat. SZA &amp; Future)</td>\n",
       "      <td>86</td>\n",
       "      <td>353754</td>\n",
       "      <td>1i9lZvlaDdWDPyXEE95aiq</td>\n",
       "    </tr>\n",
       "    <tr>\n",
       "      <th>140</th>\n",
       "      <td>cassö</td>\n",
       "      <td>Prada</td>\n",
       "      <td>92</td>\n",
       "      <td>132359</td>\n",
       "      <td>59NraMJsLaMCVtwXTSia8i</td>\n",
       "    </tr>\n",
       "    <tr>\n",
       "      <th>173</th>\n",
       "      <td>Travis Scott</td>\n",
       "      <td>SKITZO (feat. Young Thug)</td>\n",
       "      <td>78</td>\n",
       "      <td>366592</td>\n",
       "      <td>0bkV1iQHSxBaksUqgEkcbc</td>\n",
       "    </tr>\n",
       "    <tr>\n",
       "      <th>200</th>\n",
       "      <td>David Guetta</td>\n",
       "      <td>Baby Don't Hurt Me</td>\n",
       "      <td>87</td>\n",
       "      <td>140017</td>\n",
       "      <td>3BKD1PwArikchz2Zrlp1qi</td>\n",
       "    </tr>\n",
       "    <tr>\n",
       "      <th>215</th>\n",
       "      <td>Travis Scott</td>\n",
       "      <td>CIRCUS MAXIMUS (feat. The Weeknd &amp; Swae Lee)</td>\n",
       "      <td>77</td>\n",
       "      <td>258842</td>\n",
       "      <td>4GL9GMX9t7Qkprvf1YighZ</td>\n",
       "    </tr>\n",
       "    <tr>\n",
       "      <th>241</th>\n",
       "      <td>Trueno</td>\n",
       "      <td>Mamichula - con Nicki Nicole</td>\n",
       "      <td>89</td>\n",
       "      <td>219201</td>\n",
       "      <td>0TUW9faHNaBmi89wsYGp9y</td>\n",
       "    </tr>\n",
       "    <tr>\n",
       "      <th>260</th>\n",
       "      <td>¥$</td>\n",
       "      <td>CARNIVAL</td>\n",
       "      <td>96</td>\n",
       "      <td>264324</td>\n",
       "      <td>3w0w2T288dec0mgeZZqoNN</td>\n",
       "    </tr>\n",
       "    <tr>\n",
       "      <th>261</th>\n",
       "      <td>¥$</td>\n",
       "      <td>BURN</td>\n",
       "      <td>89</td>\n",
       "      <td>111458</td>\n",
       "      <td>04CyMEHliadfQWMUJb1w99</td>\n",
       "    </tr>\n",
       "    <tr>\n",
       "      <th>262</th>\n",
       "      <td>¥$</td>\n",
       "      <td>FUK SUMN</td>\n",
       "      <td>88</td>\n",
       "      <td>209577</td>\n",
       "      <td>5tEaVciE2GnR28aN6W9cLS</td>\n",
       "    </tr>\n",
       "    <tr>\n",
       "      <th>263</th>\n",
       "      <td>¥$</td>\n",
       "      <td>BACK TO ME</td>\n",
       "      <td>86</td>\n",
       "      <td>295471</td>\n",
       "      <td>1icgLGTpX2fQXKRe4D7w2b</td>\n",
       "    </tr>\n",
       "    <tr>\n",
       "      <th>264</th>\n",
       "      <td>¥$</td>\n",
       "      <td>STARS</td>\n",
       "      <td>84</td>\n",
       "      <td>115238</td>\n",
       "      <td>347AQK5Lyhn6RvB8tBGYxt</td>\n",
       "    </tr>\n",
       "    <tr>\n",
       "      <th>265</th>\n",
       "      <td>¥$</td>\n",
       "      <td>DO IT</td>\n",
       "      <td>83</td>\n",
       "      <td>225000</td>\n",
       "      <td>2iGvsJuc2mC4mDVOVMNAP6</td>\n",
       "    </tr>\n",
       "    <tr>\n",
       "      <th>266</th>\n",
       "      <td>¥$</td>\n",
       "      <td>TALKING</td>\n",
       "      <td>81</td>\n",
       "      <td>185110</td>\n",
       "      <td>1eaqMiiUn2P7MnqJK4XeK0</td>\n",
       "    </tr>\n",
       "    <tr>\n",
       "      <th>267</th>\n",
       "      <td>¥$</td>\n",
       "      <td>PAID</td>\n",
       "      <td>82</td>\n",
       "      <td>195117</td>\n",
       "      <td>2y4ZR0BUAVePljHSsZyIgj</td>\n",
       "    </tr>\n",
       "    <tr>\n",
       "      <th>268</th>\n",
       "      <td>¥$</td>\n",
       "      <td>PAPERWORK</td>\n",
       "      <td>82</td>\n",
       "      <td>145785</td>\n",
       "      <td>2yyO7EKRr7c3txi4xCXUFk</td>\n",
       "    </tr>\n",
       "    <tr>\n",
       "      <th>269</th>\n",
       "      <td>¥$</td>\n",
       "      <td>VULTURES</td>\n",
       "      <td>80</td>\n",
       "      <td>276986</td>\n",
       "      <td>3SIRBp4RRQ2AO5H4NO7xfq</td>\n",
       "    </tr>\n",
       "  </tbody>\n",
       "</table>\n",
       "</div>"
      ],
      "text/plain": [
       "           Artist                                    Track Name  Popularity  \\\n",
       "7    Travis Scott                        MELTDOWN (feat. Drake)          86   \n",
       "30   Travis Scott                    FE!N (feat. Playboi Carti)          93   \n",
       "31   Travis Scott                                      I KNOW ?          92   \n",
       "32   Travis Scott                                       MY EYES          91   \n",
       "33   Travis Scott                                    goosebumps          89   \n",
       "37   Travis Scott                                    SICKO MODE          87   \n",
       "38   Travis Scott              TELEKINESIS (feat. SZA & Future)          86   \n",
       "140         cassö                                         Prada          92   \n",
       "173  Travis Scott                     SKITZO (feat. Young Thug)          78   \n",
       "200  David Guetta                            Baby Don't Hurt Me          87   \n",
       "215  Travis Scott  CIRCUS MAXIMUS (feat. The Weeknd & Swae Lee)          77   \n",
       "241        Trueno                  Mamichula - con Nicki Nicole          89   \n",
       "260            ¥$                                      CARNIVAL          96   \n",
       "261            ¥$                                          BURN          89   \n",
       "262            ¥$                                      FUK SUMN          88   \n",
       "263            ¥$                                    BACK TO ME          86   \n",
       "264            ¥$                                         STARS          84   \n",
       "265            ¥$                                         DO IT          83   \n",
       "266            ¥$                                       TALKING          81   \n",
       "267            ¥$                                          PAID          82   \n",
       "268            ¥$                                     PAPERWORK          82   \n",
       "269            ¥$                                      VULTURES          80   \n",
       "\n",
       "     Duration (ms)                Track ID  \n",
       "7           246133  67nepsnrcZkowTxMWigSbb  \n",
       "30          191700  42VsgItocQwOQC3XWZ8JNA  \n",
       "31          211582  6wsqVwoiVH2kde4k4KKAFU  \n",
       "32          251249  4kjI1gwQZRKNDkw1nI475M  \n",
       "33          243836  6gBFPUFcJLzWGx4lenP6h2  \n",
       "37          312820  2xLMifQCjDGFmkHkpNLD9h  \n",
       "38          353754  1i9lZvlaDdWDPyXEE95aiq  \n",
       "140         132359  59NraMJsLaMCVtwXTSia8i  \n",
       "173         366592  0bkV1iQHSxBaksUqgEkcbc  \n",
       "200         140017  3BKD1PwArikchz2Zrlp1qi  \n",
       "215         258842  4GL9GMX9t7Qkprvf1YighZ  \n",
       "241         219201  0TUW9faHNaBmi89wsYGp9y  \n",
       "260         264324  3w0w2T288dec0mgeZZqoNN  \n",
       "261         111458  04CyMEHliadfQWMUJb1w99  \n",
       "262         209577  5tEaVciE2GnR28aN6W9cLS  \n",
       "263         295471  1icgLGTpX2fQXKRe4D7w2b  \n",
       "264         115238  347AQK5Lyhn6RvB8tBGYxt  \n",
       "265         225000  2iGvsJuc2mC4mDVOVMNAP6  \n",
       "266         185110  1eaqMiiUn2P7MnqJK4XeK0  \n",
       "267         195117  2y4ZR0BUAVePljHSsZyIgj  \n",
       "268         145785  2yyO7EKRr7c3txi4xCXUFk  \n",
       "269         276986  3SIRBp4RRQ2AO5H4NO7xfq  "
      ]
     },
     "execution_count": 84,
     "metadata": {},
     "output_type": "execute_result"
    }
   ],
   "source": [
    "# Get only the tracks by the top 5 popular artists\n",
    "top_5_artists_tracks = df[df['Artist'].isin(top_5_artists)]\n",
    "top_5_artists_tracks"
   ]
  },
  {
   "cell_type": "code",
   "execution_count": 85,
   "id": "40b4c355-1719-4e9b-aec5-0f4352feb3f8",
   "metadata": {
    "tags": []
   },
   "outputs": [
    {
     "data": {
      "text/html": [
       "<div>\n",
       "<style scoped>\n",
       "    .dataframe tbody tr th:only-of-type {\n",
       "        vertical-align: middle;\n",
       "    }\n",
       "\n",
       "    .dataframe tbody tr th {\n",
       "        vertical-align: top;\n",
       "    }\n",
       "\n",
       "    .dataframe thead th {\n",
       "        text-align: right;\n",
       "    }\n",
       "</style>\n",
       "<table border=\"1\" class=\"dataframe\">\n",
       "  <thead>\n",
       "    <tr style=\"text-align: right;\">\n",
       "      <th></th>\n",
       "      <th>Artist</th>\n",
       "      <th>Track Name</th>\n",
       "      <th>Popularity</th>\n",
       "      <th>Duration (ms)</th>\n",
       "      <th>Track ID</th>\n",
       "    </tr>\n",
       "  </thead>\n",
       "  <tbody>\n",
       "    <tr>\n",
       "      <th>173</th>\n",
       "      <td>Travis Scott</td>\n",
       "      <td>SKITZO (feat. Young Thug)</td>\n",
       "      <td>78</td>\n",
       "      <td>366592</td>\n",
       "      <td>0bkV1iQHSxBaksUqgEkcbc</td>\n",
       "    </tr>\n",
       "    <tr>\n",
       "      <th>38</th>\n",
       "      <td>Travis Scott</td>\n",
       "      <td>TELEKINESIS (feat. SZA &amp; Future)</td>\n",
       "      <td>86</td>\n",
       "      <td>353754</td>\n",
       "      <td>1i9lZvlaDdWDPyXEE95aiq</td>\n",
       "    </tr>\n",
       "    <tr>\n",
       "      <th>37</th>\n",
       "      <td>Travis Scott</td>\n",
       "      <td>SICKO MODE</td>\n",
       "      <td>87</td>\n",
       "      <td>312820</td>\n",
       "      <td>2xLMifQCjDGFmkHkpNLD9h</td>\n",
       "    </tr>\n",
       "    <tr>\n",
       "      <th>263</th>\n",
       "      <td>¥$</td>\n",
       "      <td>BACK TO ME</td>\n",
       "      <td>86</td>\n",
       "      <td>295471</td>\n",
       "      <td>1icgLGTpX2fQXKRe4D7w2b</td>\n",
       "    </tr>\n",
       "    <tr>\n",
       "      <th>269</th>\n",
       "      <td>¥$</td>\n",
       "      <td>VULTURES</td>\n",
       "      <td>80</td>\n",
       "      <td>276986</td>\n",
       "      <td>3SIRBp4RRQ2AO5H4NO7xfq</td>\n",
       "    </tr>\n",
       "  </tbody>\n",
       "</table>\n",
       "</div>"
      ],
      "text/plain": [
       "           Artist                        Track Name  Popularity  \\\n",
       "173  Travis Scott         SKITZO (feat. Young Thug)          78   \n",
       "38   Travis Scott  TELEKINESIS (feat. SZA & Future)          86   \n",
       "37   Travis Scott                        SICKO MODE          87   \n",
       "263            ¥$                        BACK TO ME          86   \n",
       "269            ¥$                          VULTURES          80   \n",
       "\n",
       "     Duration (ms)                Track ID  \n",
       "173         366592  0bkV1iQHSxBaksUqgEkcbc  \n",
       "38          353754  1i9lZvlaDdWDPyXEE95aiq  \n",
       "37          312820  2xLMifQCjDGFmkHkpNLD9h  \n",
       "263         295471  1icgLGTpX2fQXKRe4D7w2b  \n",
       "269         276986  3SIRBp4RRQ2AO5H4NO7xfq  "
      ]
     },
     "execution_count": 85,
     "metadata": {},
     "output_type": "execute_result"
    }
   ],
   "source": [
    "# Get the top 5 longest songs\n",
    "top_5_longest_songs  = (\n",
    "    top_5_artists_tracks.sort_values(by='Duration (ms)', ascending=False)\n",
    "    .head(5)\n",
    ")\n",
    "top_5_longest_songs"
   ]
  },
  {
   "cell_type": "code",
   "execution_count": 108,
   "id": "1303f708-7666-4d4f-b58c-1189573d1a1b",
   "metadata": {
    "tags": []
   },
   "outputs": [
    {
     "data": {
      "image/png": "[encoded data removed]",
      "text/plain": [
       "<Figure size 1000x600 with 1 Axes>"
      ]
     },
     "metadata": {},
     "output_type": "display_data"
    }
   ],
   "source": [
    "# Plot the durations of the top 5 longest songs using a bar plot\n",
    "plt.figure(figsize=(10, 6))\n",
    "colors = plt.cm.tab10(np.arange(len(top_5_longest_songs)))\n",
    "bars = plt.barh(top_5_longest_songs['Track Name'], top_5_longest_songs['Duration (ms)'], color=colors, edgecolor='black')\n",
    "\n",
    "# Add data labels (duration) on the right side of each bar\n",
    "for bar in bars:\n",
    "    plt.text(bar.get_width() + 10000, bar.get_y() + bar.get_height() / 2, str(int(bar.get_width() / 1000)) + 's',\n",
    "             ha='left', va='center', fontsize=12)\n",
    "\n",
    "# Add song titles and artist names as annotations on the left side of each bar\n",
    "for i, (song, artist) in enumerate(zip(top_5_longest_songs['Track Name'], top_5_longest_songs['Artist'])):\n",
    "    plt.text(0, i, f'{song} ({artist})', ha='left', va='center', fontsize=10)\n",
    "\n",
    "# Add title and labels\n",
    "plt.title('Top 5 Longest Songs Among Tracks of Top 5 Popular Artists', fontsize=16)\n",
    "plt.xlabel('Duration (ms)', fontsize=14)\n",
    "plt.ylabel('Song', fontsize=14)\n",
    "\n",
    "plt.xticks(fontsize=12)\n",
    "plt.yticks(fontsize=12)\n",
    "\n",
    "plt.grid(axis='x', linestyle='--', alpha=0.7)\n",
    "plt.tight_layout()\n",
    "plt.show()"
   ]
  },
  {
   "cell_type": "markdown",
   "id": "049ceb7b-cc64-4c14-890d-a12952601a50",
   "metadata": {
    "jp-MarkdownHeadingCollapsed": true,
    "tags": []
   },
   "source": [
    "### 5. Determine the top 5 most danceable songs based on their danceability scores.Illustrate the danceability scores of the top 5 most danceable songs using PieChart."
   ]
  },
  {
   "cell_type": "code",
   "execution_count": 14,
   "id": "cbdfb506-3591-4164-b3c5-129451e545ac",
   "metadata": {},
   "outputs": [
    {
     "data": {
      "text/plain": [
       "Track Name\n",
       "Lovin On Me                   97.0\n",
       "redrum                        96.0\n",
       "CARNIVAL                      96.0\n",
       "FE!N (feat. Playboi Carti)    93.0\n",
       "Prada                         92.0\n",
       "Name: Popularity, dtype: float64"
      ]
     },
     "execution_count": 14,
     "metadata": {},
     "output_type": "execute_result"
    }
   ],
   "source": [
    "top_5_danceable_songs = (\n",
    "    df.groupby('Track Name')['Popularity'].mean()\n",
    "    .sort_values(ascending=False)\n",
    "    .head(5)\n",
    "    # .index.tolist()\n",
    ")\n",
    "top_5_danceable_songs"
   ]
  },
  {
   "cell_type": "code",
   "execution_count": 16,
   "id": "03e5ba26-a3f7-4363-bb86-8c5a6aa94a4f",
   "metadata": {
    "tags": []
   },
   "outputs": [
    {
     "data": {
      "image/png": "[encoded data removed]",
      "text/plain": [
       "<Figure size 600x600 with 1 Axes>"
      ]
     },
     "metadata": {},
     "output_type": "display_data"
    }
   ],
   "source": [
    "# Plot the pie chart\n",
    "plt.figure(figsize=(6, 6))\n",
    "plt.pie(top_5_trend_tracks, labels=top_5_trend_tracks.index, autopct='%1.1f%%', startangle=140)\n",
    "plt.title('Top 5 most danceable songs')\n",
    "plt.axis('equal')  # Equal aspect ratio ensures that pie is drawn as a circle.\n",
    "plt.tight_layout()\n",
    "plt.show()"
   ]
  },
  {
   "cell_type": "markdown",
   "id": "332af7f2-41df-4153-b8a1-f11d49855551",
   "metadata": {},
   "source": [
    "*Observatons:*\n",
    "- Populer Danceable songs is *Lovin On Me* with mean score is *20.5%*."
   ]
  }
 ],
 "metadata": {
  "kernelspec": {
   "display_name": "Python 3 (ipykernel)",
   "language": "python",
   "name": "python3"
  },
  "language_info": {
   "codemirror_mode": {
    "name": "ipython",
    "version": 3
   },
   "file_extension": ".py",
   "mimetype": "text/x-python",
   "name": "python",
   "nbconvert_exporter": "python",
   "pygments_lexer": "ipython3",
   "version": "3.11.4"
  }
 },
 "nbformat": 4,
 "nbformat_minor": 5
}
